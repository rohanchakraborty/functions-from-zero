{
  "nbformat": 4,
  "nbformat_minor": 0,
  "metadata": {
    "colab": {
      "provenance": [],
      "authorship_tag": "ABX9TyPYrxq+WfgF513SpYteGU0U",
      "include_colab_link": true
    },
    "kernelspec": {
      "name": "python3",
      "display_name": "Python 3"
    },
    "language_info": {
      "name": "python"
    }
  },
  "cells": [
    {
      "cell_type": "markdown",
      "metadata": {
        "id": "view-in-github",
        "colab_type": "text"
      },
      "source": [
        "<a href=\"https://colab.research.google.com/github/rohanchakraborty/functions-from-zero/blob/main/statements.ipynb\" target=\"_parent\"><img src=\"https://colab.research.google.com/assets/colab-badge.svg\" alt=\"Open In Colab\"/></a>"
      ]
    },
    {
      "cell_type": "markdown",
      "source": [
        "## Learning statements"
      ],
      "metadata": {
        "id": "FDzhpshppy0M"
      }
    },
    {
      "cell_type": "code",
      "execution_count": 1,
      "metadata": {
        "colab": {
          "base_uri": "https://localhost:8080/"
        },
        "id": "O3hQMzgRpgbX",
        "outputId": "7fe41870-b572-4562-a9c0-ca3e12cf4e81"
      },
      "outputs": [
        {
          "output_type": "stream",
          "name": "stdout",
          "text": [
            "Hello World\n"
          ]
        }
      ],
      "source": [
        "print(\"Hello World\")"
      ]
    },
    {
      "cell_type": "markdown",
      "source": [
        "### Variables"
      ],
      "metadata": {
        "id": "Irw492QnqLjk"
      }
    },
    {
      "cell_type": "code",
      "source": [
        "var = 1\n",
        "x= 2"
      ],
      "metadata": {
        "id": "1tmtOZrVp5Qn"
      },
      "execution_count": 4,
      "outputs": []
    },
    {
      "cell_type": "markdown",
      "source": [
        "### Data Structure\n",
        "\n"
      ],
      "metadata": {
        "id": "DUqXA8hCqUpr"
      }
    },
    {
      "cell_type": "markdown",
      "source": [
        "#### List"
      ],
      "metadata": {
        "id": "AsXOmQ2WrSX5"
      }
    },
    {
      "cell_type": "code",
      "source": [
        "myList = [1,2,3,4,5,6]"
      ],
      "metadata": {
        "id": "Rq8FVdr-qQat"
      },
      "execution_count": 5,
      "outputs": []
    },
    {
      "cell_type": "markdown",
      "source": [
        "#### Dictionary"
      ],
      "metadata": {
        "id": "buQmnFJCrT-e"
      }
    },
    {
      "cell_type": "code",
      "source": [
        "myDict = {1:\"One\", 2:\"Two\",3:\"Three\"}"
      ],
      "metadata": {
        "id": "WGrwAV5JqeKG"
      },
      "execution_count": 6,
      "outputs": []
    },
    {
      "cell_type": "code",
      "source": [
        "type(myDict)"
      ],
      "metadata": {
        "colab": {
          "base_uri": "https://localhost:8080/"
        },
        "id": "AiefxiIprcbM",
        "outputId": "4f37e298-3519-4986-bfd2-57f2a035a186"
      },
      "execution_count": 7,
      "outputs": [
        {
          "output_type": "execute_result",
          "data": {
            "text/plain": [
              "dict"
            ]
          },
          "metadata": {},
          "execution_count": 7
        }
      ]
    },
    {
      "cell_type": "code",
      "source": [
        "myDict.keys(), myDict.values()"
      ],
      "metadata": {
        "colab": {
          "base_uri": "https://localhost:8080/"
        },
        "id": "Yujl7rPxreQX",
        "outputId": "5ff8a664-5ee2-4b43-84be-d87d1990440d"
      },
      "execution_count": 10,
      "outputs": [
        {
          "output_type": "execute_result",
          "data": {
            "text/plain": [
              "(dict_keys([1, 2, 3]), dict_values(['One', 'Two', 'Three']))"
            ]
          },
          "metadata": {},
          "execution_count": 10
        }
      ]
    },
    {
      "cell_type": "markdown",
      "source": [
        "### Loops"
      ],
      "metadata": {
        "id": "DjL0dG7nruL7"
      }
    },
    {
      "cell_type": "code",
      "source": [
        "for key,value in myDict.items():\n",
        "  print(f\"This is key: {key}\")\n",
        "  print(f\"This is value: {value}\")"
      ],
      "metadata": {
        "colab": {
          "base_uri": "https://localhost:8080/"
        },
        "id": "Lb95ipmJrhYT",
        "outputId": "4e6442bf-3c04-4ec0-9ddf-8d3cec7a2d28"
      },
      "execution_count": 11,
      "outputs": [
        {
          "output_type": "stream",
          "name": "stdout",
          "text": [
            "This is key: 1\n",
            "This is value: One\n",
            "This is key: 2\n",
            "This is value: Two\n",
            "This is key: 3\n",
            "This is value: Three\n"
          ]
        }
      ]
    },
    {
      "cell_type": "code",
      "source": [
        "for items in myList:\n",
        "  print(f\"this is the item: {items}\")"
      ],
      "metadata": {
        "colab": {
          "base_uri": "https://localhost:8080/"
        },
        "id": "rfYoOMfHsEFb",
        "outputId": "8d280ba8-be87-4257-86d4-5d5fb5418ee8"
      },
      "execution_count": 12,
      "outputs": [
        {
          "output_type": "stream",
          "name": "stdout",
          "text": [
            "this is the item: 1\n",
            "this is the item: 2\n",
            "this is the item: 3\n",
            "this is the item: 4\n",
            "this is the item: 5\n",
            "this is the item: 6\n"
          ]
        }
      ]
    },
    {
      "cell_type": "code",
      "source": [],
      "metadata": {
        "id": "YLfj3bprsT9-"
      },
      "execution_count": null,
      "outputs": []
    }
  ]
}